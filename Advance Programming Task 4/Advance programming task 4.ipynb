{
 "cells": [
  {
   "cell_type": "code",
   "execution_count": null,
   "id": "f2f588c2",
   "metadata": {},
   "outputs": [],
   "source": [
    "#Task 1\n",
    "class Solution:\n",
    "    def singleNumber(self, nums: List[int]) -> int:\n",
    "        xor = 0\n",
    "        for num in nums:\n",
    "            xor ^= num\n",
    "        \n",
    "        return xor"
   ]
  },
  {
   "cell_type": "code",
   "execution_count": null,
   "id": "d1a0c912",
   "metadata": {},
   "outputs": [],
   "source": [
    "#task 2\n",
    "class Solution:\n",
    "    def sortByBits(self, arr: List[int]) -> List[int]:\n",
    "        stack = []\n",
    "\n",
    "        for n in arr:\n",
    "            count = bin(n)[2:].count(\"1\")\n",
    "            stack.append([count, n])\n",
    "        \n",
    "        stack.sort()\n",
    "        arr = [num for c, num in stack]\n",
    "        return arr"
   ]
  },
  {
   "cell_type": "code",
   "execution_count": null,
   "id": "d853973d",
   "metadata": {},
   "outputs": [],
   "source": [
    "#task 3\n",
    "class Solution:\n",
    "    def singleNumber(self, nums: List[int]) -> List[int]:\n",
    "        p=0\n",
    "        q=0\n",
    "        for i in nums :\n",
    "            p^=i;\n",
    "        for i in nums:\n",
    "            if ((p&(-p))&i)==0 :\n",
    "                q^=i\n",
    "        return [p^q,q];"
   ]
  },
  {
   "cell_type": "code",
   "execution_count": null,
   "id": "e4394cae",
   "metadata": {},
   "outputs": [],
   "source": [
    "#task 4\n",
    "class Solution:\n",
    "    def subsets(self, nums: List[int]) -> List[List[int]]:\n",
    "        all_subset = []\n",
    "        bag = []\n",
    "        def makeSubsetFrom( startIndex ):\n",
    "            all_subset.append( bag[::] )\n",
    "            if startIndex == len(nums):\n",
    "                return\n",
    "            for i in range(startIndex, len(nums) ):\n",
    "                bag.append( nums[i] )           \n",
    "                makeSubsetFrom( i+1 )          \n",
    "                bag.pop()                       \n",
    "            \n",
    "            return\n",
    "        makeSubsetFrom( startIndex = 0 )\n",
    "        \n",
    "        return all_subset"
   ]
  }
 ],
 "metadata": {
  "kernelspec": {
   "display_name": "Python 3 (ipykernel)",
   "language": "python",
   "name": "python3"
  },
  "language_info": {
   "codemirror_mode": {
    "name": "ipython",
    "version": 3
   },
   "file_extension": ".py",
   "mimetype": "text/x-python",
   "name": "python",
   "nbconvert_exporter": "python",
   "pygments_lexer": "ipython3",
   "version": "3.9.12"
  }
 },
 "nbformat": 4,
 "nbformat_minor": 5
}
