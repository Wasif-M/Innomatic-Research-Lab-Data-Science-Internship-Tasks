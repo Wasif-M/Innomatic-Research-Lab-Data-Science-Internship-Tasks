{
 "cells": [
  {
   "cell_type": "code",
   "execution_count": null,
   "id": "f9abc9c3",
   "metadata": {},
   "outputs": [],
   "source": [
    "class Solution:\n",
    "    def maxProduct(self, nums: List[int]) -> int:\n",
    "        nums.sort()\n",
    "        return (nums[-2]-1)*(nums[-1]-1)"
   ]
  },
  {
   "cell_type": "code",
   "execution_count": null,
   "id": "caca8e10",
   "metadata": {},
   "outputs": [],
   "source": [
    "from sortedcontainers import SortedList\n",
    "class Solution:\n",
    "    def count_low_high(self,sl,x):\n",
    "        lo =           sl.bisect_left(x)\n",
    "        hi = len(sl) - lo\n",
    "        return lo, hi\n",
    "    \n",
    "    def numTeams(self, A):\n",
    "        result = 0\n",
    "        left   = SortedList()\n",
    "        right  = SortedList(A)\n",
    "        for x in A:\n",
    "            right.remove(x)\n",
    "            lo_L, hi_L  =  self.count_low_high(left ,x)\n",
    "            lo_R, hi_R  =  self.count_low_high(right,x)\n",
    "            result     +=  lo_L*hi_R + hi_L*lo_R\n",
    "            left .add(x)\n",
    "        return result"
   ]
  },
  {
   "cell_type": "code",
   "execution_count": null,
   "id": "17b54bb0",
   "metadata": {},
   "outputs": [],
   "source": [
    "class Solution:\n",
    "    def busyStudent(self, startTime: List[int], endTime: List[int], queryTime: int) -> int:\n",
    "        count=0\n",
    "        n=len(endTime)\n",
    "        for i in range(n):\n",
    "            if endTime[i]>=queryTime and startTime[i]<=queryTime:\n",
    "                count+=1\n",
    "        return count\n",
    "    \n",
    "        "
   ]
  },
  {
   "cell_type": "code",
   "execution_count": null,
   "id": "f52fff43",
   "metadata": {},
   "outputs": [],
   "source": [
    "class Solution:\n",
    "    def numberOfSteps(self, num: int) -> int:\n",
    "        if num == 0:\n",
    "            return 0\n",
    "        return 1 + self.numberOfSteps(num - 1 if num & 1 else num >> 1)"
   ]
  },
  {
   "cell_type": "code",
   "execution_count": null,
   "id": "b51a247f",
   "metadata": {},
   "outputs": [],
   "source": [
    "class Solution:\n",
    "    def countBits(self, n: int) -> List[int]:\n",
    "        result = [0] * (n+1)\n",
    "        for i in range(1, n+1):\n",
    "            result[i] = result[i//2] + (i%2)\n",
    "        return result"
   ]
  }
 ],
 "metadata": {
  "kernelspec": {
   "display_name": "Python 3 (ipykernel)",
   "language": "python",
   "name": "python3"
  },
  "language_info": {
   "codemirror_mode": {
    "name": "ipython",
    "version": 3
   },
   "file_extension": ".py",
   "mimetype": "text/x-python",
   "name": "python",
   "nbconvert_exporter": "python",
   "pygments_lexer": "ipython3",
   "version": "3.9.12"
  }
 },
 "nbformat": 4,
 "nbformat_minor": 5
}
