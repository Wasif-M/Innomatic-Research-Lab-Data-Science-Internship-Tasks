{
 "cells": [
  {
   "cell_type": "code",
   "execution_count": null,
   "id": "2de589da",
   "metadata": {},
   "outputs": [],
   "source": [
    "#task 1\n",
    "class Solution:\n",
    "    def runningSum(self, nums: List[int]) -> List[int]:\n",
    "        retList = [nums[0]]\n",
    "        for i in range(1, len(nums)):\n",
    "            retList.append(retList[-1]+nums[i])\n",
    "        return retList\n"
   ]
  },
  {
   "cell_type": "markdown",
   "id": "f2777a41",
   "metadata": {},
   "source": []
  },
  {
   "cell_type": "code",
   "execution_count": null,
   "id": "55120447",
   "metadata": {},
   "outputs": [],
   "source": [
    "#task 2\n",
    "class Solution(object):\n",
    "    def shuffle(self, nums, n):\n",
    "        result = []\n",
    "        for index in range(n):\n",
    "            result.append(nums[index])\n",
    "            result.append(nums[index + n])\n",
    "        return result"
   ]
  },
  {
   "cell_type": "code",
   "execution_count": null,
   "id": "f76a68e5",
   "metadata": {},
   "outputs": [],
   "source": [
    "#task 3\n",
    "class Solution:\n",
    "    def kidsWithCandies(self, candies: List[int], extraCandies: int) -> List[bool]:\n",
    "        max_can=max(candies)\n",
    "        result=[]\n",
    "        for i in candies:\n",
    "            if i+extraCandies>=max_can:\n",
    "                result.append(True)\n",
    "            else:\n",
    "                result.append(False)\n",
    "        return result"
   ]
  }
 ],
 "metadata": {
  "kernelspec": {
   "display_name": "Python 3 (ipykernel)",
   "language": "python",
   "name": "python3"
  },
  "language_info": {
   "codemirror_mode": {
    "name": "ipython",
    "version": 3
   },
   "file_extension": ".py",
   "mimetype": "text/x-python",
   "name": "python",
   "nbconvert_exporter": "python",
   "pygments_lexer": "ipython3",
   "version": "3.9.12"
  }
 },
 "nbformat": 4,
 "nbformat_minor": 5
}
