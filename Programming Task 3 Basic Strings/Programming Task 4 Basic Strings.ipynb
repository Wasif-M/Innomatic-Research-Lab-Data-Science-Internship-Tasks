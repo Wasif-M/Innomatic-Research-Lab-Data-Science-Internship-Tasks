{
 "cells": [
  {
   "cell_type": "code",
   "execution_count": null,
   "id": "8204976f",
   "metadata": {},
   "outputs": [],
   "source": [
    "#task 1\n",
    "def swap_case(s):\n",
    "    return s.swapcase()\n",
    "\n",
    "if __name__ == '__main__':\n",
    "    s = input()\n",
    "    result = swap_case(s)\n",
    "    print(result)"
   ]
  },
  {
   "cell_type": "code",
   "execution_count": null,
   "id": "2e792139",
   "metadata": {},
   "outputs": [],
   "source": [
    "#task 2\n",
    "\n",
    "\n",
    "def split_and_join(line):\n",
    "    return \"-\".join(line.split(\" \"))\n",
    "\n",
    "if __name__ == '__main__':\n",
    "    line = input()\n",
    "    result = split_and_join(line)\n",
    "    print(result)\n"
   ]
  },
  {
   "cell_type": "code",
   "execution_count": null,
   "id": "d0a152e7",
   "metadata": {},
   "outputs": [],
   "source": [
    "#task 3\n",
    "def print_full_name(first, last):\n",
    "    print(\"Hello \"+first+\" \"+last+(\"! You just delved into python.\"))\n",
    "\n",
    "if __name__ == '__main__':\n",
    "    first_name = input()\n",
    "    last_name = input()\n",
    "    print_full_name(first_name, last_name)"
   ]
  },
  {
   "cell_type": "code",
   "execution_count": null,
   "id": "ec8866bf",
   "metadata": {},
   "outputs": [],
   "source": [
    "#task 4\n",
    "def mutate_string(string, position, character):\n",
    "    l = list(string)\n",
    "    l[position] = character;\n",
    "    string = ''.join(l);\n",
    "    return string\n",
    "\n",
    "if __name__ == '__main__':\n",
    "    s = input()\n",
    "    i, c = input().split()\n",
    "    s_new = mutate_string(s, int(i), c)\n",
    "    print(s_new)"
   ]
  },
  {
   "cell_type": "code",
   "execution_count": null,
   "id": "07187df4",
   "metadata": {},
   "outputs": [],
   "source": [
    "#task 5\n",
    "def count_substring(string, sub_string):\n",
    "    sub_l=len(sub_string)\n",
    "    mstr_l=len(string)\n",
    "    c=0\n",
    "    for i in range(mstr_l-sub_l+1):\n",
    "        if(string[i:(i+sub_l)]==sub_string):\n",
    "            c+=1\n",
    "    return c\n",
    "if __name__ == '__main__':\n",
    "    string = input().strip()\n",
    "    sub_string = input().strip()\n",
    "    \n",
    "    count = count_substring(string, sub_string)\n",
    "    print(count)"
   ]
  },
  {
   "cell_type": "code",
   "execution_count": null,
   "id": "17941971",
   "metadata": {},
   "outputs": [],
   "source": [
    "#task 6\n",
    "if __name__ == '__main__':\n",
    "    s = input()\n",
    "    print(any(i.isalnum() for i in s))\n",
    "    print(any(i.isalpha() for i in s))\n",
    "    print(any(i.isdigit() for i in s))\n",
    "    print(any(i.islower() for i in s))\n",
    "    print(any(i.isupper() for i in s))\n"
   ]
  },
  {
   "cell_type": "code",
   "execution_count": null,
   "id": "69760e0c",
   "metadata": {},
   "outputs": [],
   "source": [
    "#task 7\n",
    "\n",
    "thickness = int(input()) #This must be an odd number\n",
    "c = 'H'\n",
    "for i in range(thickness):\n",
    "    print((c*i).rjust(thickness-1)+c+(c*i).ljust(thickness-1))\n",
    "\n",
    "for i in range(thickness+1):  print((c*thickness).center(thickness*2)+(c*thickness).center(thickness*6))\n",
    "\n",
    "for i in range((thickness+1)//2):\n",
    "    print((c*thickness*5).center(thickness*6))    \n",
    "\n",
    "for i in range(thickness+1): print((c*thickness).center(thickness*2)+(c*thickness).center(thickness*6))    \n",
    "\n",
    "for i in range(thickness):  print(((c*(thickness-i-1)).rjust(thickness)+c+(c*(thickness-i-1)).ljust(thickness)).rjust(thickness*6))\n"
   ]
  },
  {
   "cell_type": "code",
   "execution_count": null,
   "id": "e65c0a02",
   "metadata": {},
   "outputs": [],
   "source": [
    "#task 8\n",
    "import textwrap\n",
    "def wrap(string, max_width):\n",
    "    return textwrap.fill(string, max_width)\n",
    "\n",
    "if __name__ == '__main__':\n",
    "    string, max_width = input(), int(input())\n",
    "    result = wrap(string, max_width)\n",
    "    print(result)"
   ]
  },
  {
   "cell_type": "code",
   "execution_count": null,
   "id": "6a6d93ff",
   "metadata": {},
   "outputs": [],
   "source": [
    "#task 9\n",
    "n, m = map(int,input().split())\n",
    "for i in range(n//2):\n",
    "    j = int((2*i)+1)\n",
    "    print(('.|.'*j).center(m, '-'))\n",
    "print('WELCOME'.center(m,'-'))\n",
    "for i in reversed(range(n//2)):\n",
    "    j = int((2*i)+1)\n",
    "    print(('.|.'*j).center(m, '-'))\n"
   ]
  },
  {
   "cell_type": "code",
   "execution_count": null,
   "id": "2adfe15e",
   "metadata": {},
   "outputs": [],
   "source": [
    "#task 10\n",
    "def print_formatted(number):\n",
    "    width = len(bin(number)[2:])\n",
    "    for i in range(1, number+1):\n",
    "        deci = str(i)\n",
    "        octa = oct(i)[2:]\n",
    "        hexa = hex(i)[2:].upper()\n",
    "        bina = bin(i)[2:]\n",
    "        print(deci.rjust(width),octa.rjust(width),hexa.rjust(width),bina.rjust(width))\n",
    "\n",
    "\n",
    "if __name__ == '__main__':\n",
    "    n = int(input())\n",
    "    print_formatted(n)"
   ]
  },
  {
   "cell_type": "code",
   "execution_count": null,
   "id": "7adf7db3",
   "metadata": {},
   "outputs": [],
   "source": [
    "#task 11\n",
    "a = \"abcdefghijklmnopqrstuvwxyz\"\n",
    "def print_rangoli(size):\n",
    "    \n",
    "    lines = []\n",
    "    for row in range(size):\n",
    "        print_ = \"-\".join(a[row:size])\n",
    "        lines.append(print_[::-1] + print_[1:])\n",
    "    width = len(lines[0])\n",
    "    \n",
    "    for row in range(size-1, 0, -1):\n",
    "        print(lines[row].center(width, '-'))\n",
    "        \n",
    "    for row in range(size):\n",
    "        print(lines[row].center(width, '-'))\n",
    "\n",
    "if __name__ == '__main__':\n",
    "    n = int(input())\n",
    "    print_rangoli(n)"
   ]
  },
  {
   "cell_type": "code",
   "execution_count": null,
   "id": "a9e5f623",
   "metadata": {},
   "outputs": [],
   "source": [
    "#task 12\n",
    "def solve(s):\n",
    "    ans = s.split(' ')\n",
    "    ans1 = (((i.capitalize() for i in ans)))\n",
    "    return ' '.join(ans1)\n",
    "\n",
    "if __name__ == '__main__':\n",
    "    fptr = open(os.environ['OUTPUT_PATH'], 'w')\n",
    "\n",
    "    s = input()\n",
    "\n",
    "    result = solve(s)\n",
    "\n",
    "    fptr.write(result + '\\n')\n",
    "\n",
    "    fptr.close()\n"
   ]
  },
  {
   "cell_type": "code",
   "execution_count": null,
   "id": "0421db14",
   "metadata": {},
   "outputs": [],
   "source": [
    "#task 13\n",
    "def minion_game(string):\n",
    "    player1 = 0;\n",
    "    player2 = 0;\n",
    "    str_len = len(string)\n",
    "    for i in range(str_len):\n",
    "        if s[i] in \"AEIOU\":\n",
    "            player1 += (str_len)-i\n",
    "        else :\n",
    "            player2 += (str_len)-i\n",
    "    \n",
    "    if player1 > player2:\n",
    "        print(\"Kevin\", player1)\n",
    "    elif player1 < player2:\n",
    "        print(\"Stuart\",player2)\n",
    "    elif player1 == player2:\n",
    "        print(\"Draw\")\n",
    "    else :\n",
    "        print(\"Draw\")\n",
    "\n",
    "if __name__ == '__main__':\n",
    "    s = input()\n",
    "    minion_game(s)"
   ]
  },
  {
   "cell_type": "code",
   "execution_count": null,
   "id": "6482cff0",
   "metadata": {},
   "outputs": [],
   "source": [
    "#task 14\n",
    "from textwrap import wrap\n",
    "\n",
    "def merge_the_tools(string, k):\n",
    "    ls = wrap(string, k)\n",
    "    new_ls = []\n",
    "    for x in ls:\n",
    "        result = x[0]\n",
    "        for i in range(1,len(x)):\n",
    "            if x[i] not in result:\n",
    "                result += x[i]\n",
    "            else: \n",
    "                continue\n",
    "        print(result)\n",
    "\n",
    "if __name__ == '__main__':\n",
    "    string, k = input(), int(input())\n",
    "    merge_the_tools(string, k)"
   ]
  },
  {
   "cell_type": "code",
   "execution_count": null,
   "id": "e2140d43",
   "metadata": {},
   "outputs": [],
   "source": []
  }
 ],
 "metadata": {
  "kernelspec": {
   "display_name": "Python 3 (ipykernel)",
   "language": "python",
   "name": "python3"
  },
  "language_info": {
   "codemirror_mode": {
    "name": "ipython",
    "version": 3
   },
   "file_extension": ".py",
   "mimetype": "text/x-python",
   "name": "python",
   "nbconvert_exporter": "python",
   "pygments_lexer": "ipython3",
   "version": "3.9.12"
  }
 },
 "nbformat": 4,
 "nbformat_minor": 5
}
