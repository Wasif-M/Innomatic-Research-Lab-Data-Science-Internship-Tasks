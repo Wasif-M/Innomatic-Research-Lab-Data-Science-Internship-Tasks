{
 "cells": [
  {
   "cell_type": "code",
   "execution_count": 2,
   "id": "d4e43dca",
   "metadata": {},
   "outputs": [
    {
     "name": "stdout",
     "output_type": "stream",
     "text": [
      "12\n",
      "12.0\n",
      "0.0\n"
     ]
    }
   ],
   "source": [
    "#Task 1\n",
    "import cmath\n",
    "n = input()\n",
    "s = complex(n)\n",
    "print(abs(s))\n",
    "print(cmath.phase(s))"
   ]
  },
  {
   "cell_type": "code",
   "execution_count": 3,
   "id": "2f78e77d",
   "metadata": {},
   "outputs": [
    {
     "name": "stdout",
     "output_type": "stream",
     "text": [
      "12\n",
      "12\n",
      "45°\n"
     ]
    }
   ],
   "source": [
    "#Task 2\n",
    "import math\n",
    "AB,BC=int(input()),int(input())\n",
    "hype=math.hypot(AB,BC)      \n",
    "res=round(math.degrees(math.acos(BC/hype))) \n",
    "degree=chr(176)                          \n",
    "print(res,degree, sep='')"
   ]
  },
  {
   "cell_type": "code",
   "execution_count": 4,
   "id": "df5f8c6c",
   "metadata": {},
   "outputs": [
    {
     "name": "stdout",
     "output_type": "stream",
     "text": [
      "1\n",
      "1\n"
     ]
    }
   ],
   "source": [
    "#task 3\n",
    "for i in range(1, int(input())+1):\n",
    "    print((10**i//9)**2)"
   ]
  },
  {
   "cell_type": "code",
   "execution_count": 5,
   "id": "cf2f6e8d",
   "metadata": {},
   "outputs": [
    {
     "name": "stdout",
     "output_type": "stream",
     "text": [
      "12\n",
      "12\n",
      "1\n",
      "0\n",
      "(1, 0)\n"
     ]
    }
   ],
   "source": [
    "# Task 4\n",
    "a = int(input())\n",
    "b = int(input())\n",
    "print (a//b)\n",
    "print (a%b)\n",
    "print (divmod(a,b))"
   ]
  },
  {
   "cell_type": "markdown",
   "id": "b1e9793f",
   "metadata": {},
   "source": []
  },
  {
   "cell_type": "code",
   "execution_count": null,
   "id": "f1140c14",
   "metadata": {},
   "outputs": [],
   "source": [
    "#Task 5\n",
    "a=int(input())\n",
    "b=int(input())\n",
    "m=int(input())\n",
    "print(pow(a,b))\n",
    "print(pow(a,b,m))"
   ]
  },
  {
   "cell_type": "code",
   "execution_count": null,
   "id": "4316aa1c",
   "metadata": {},
   "outputs": [],
   "source": [
    "#Task 6\n",
    "a = int(input())\n",
    "b = int(input())\n",
    "c = int(input())\n",
    "d = int(input())\n",
    "\n",
    "print(a**b+c**d)"
   ]
  },
  {
   "cell_type": "code",
   "execution_count": null,
   "id": "bbdea6a7",
   "metadata": {},
   "outputs": [],
   "source": [
    "#task 7\n",
    "for i in range(1,int(input())):\n",
    "    print(i*(10**i-1)//9)"
   ]
  },
  {
   "cell_type": "code",
   "execution_count": null,
   "id": "425ad2d5",
   "metadata": {},
   "outputs": [],
   "source": []
  }
 ],
 "metadata": {
  "kernelspec": {
   "display_name": "Python 3 (ipykernel)",
   "language": "python",
   "name": "python3"
  },
  "language_info": {
   "codemirror_mode": {
    "name": "ipython",
    "version": 3
   },
   "file_extension": ".py",
   "mimetype": "text/x-python",
   "name": "python",
   "nbconvert_exporter": "python",
   "pygments_lexer": "ipython3",
   "version": "3.9.12"
  }
 },
 "nbformat": 4,
 "nbformat_minor": 5
}
