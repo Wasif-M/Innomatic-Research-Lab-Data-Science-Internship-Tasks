{
 "cells": [
  {
   "cell_type": "code",
   "execution_count": null,
   "id": "ce31c80d",
   "metadata": {},
   "outputs": [],
   "source": [
    "#task 1\n",
    "class Solution:\n",
    "    def findNumbers(self, nums: List[int]) -> int:\n",
    "        return len(list(filter(lambda x: not x & 1,map(len,map(str,nums)))))"
   ]
  },
  {
   "cell_type": "code",
   "execution_count": null,
   "id": "44caf4fe",
   "metadata": {},
   "outputs": [],
   "source": [
    "#task 2\n",
    "class Solution:\n",
    "    def defangIPaddr(self, address: str) -> str:\n",
    "        s = ''\n",
    "        for i in address:\n",
    "            if i == '.': s+='[.]'\n",
    "            else: s+=i\n",
    "        return s"
   ]
  },
  {
   "cell_type": "code",
   "execution_count": null,
   "id": "59126691",
   "metadata": {},
   "outputs": [],
   "source": [
    "#task 3\n",
    "class Solution:\n",
    "    def numIdenticalPairs(self, nums: List[int]) -> int:\n",
    "        count=0\n",
    "        for i in range(len(nums)):\n",
    "            for j in range(len(nums)):\n",
    "                if nums[i]==nums[j] and i<j:\n",
    "                    count+=1\n",
    "        return count"
   ]
  },
  {
   "cell_type": "code",
   "execution_count": null,
   "id": "c14ac9e3",
   "metadata": {},
   "outputs": [],
   "source": [
    "#task 4\n",
    "class Solution:\n",
    "    def smallerNumbersThanCurrent(self, nums: List[int]) -> List[int]:\n",
    "        result=[]\n",
    "        for i in range(len(nums)):\n",
    "            count=0\n",
    "            for j in range(len(nums)):\n",
    "                if nums[i]>nums[j]:\n",
    "                    count+=1\n",
    "            result.append(count)    \n",
    "        return result"
   ]
  },
  {
   "cell_type": "code",
   "execution_count": null,
   "id": "a9baee99",
   "metadata": {},
   "outputs": [],
   "source": [
    "#task 5\n",
    "class Solution:\n",
    "    def subtractProductAndSum(self, n: int) -> int:\n",
    "        l1 = [int(i) for i in str(n)]\n",
    "        product = 1\n",
    "        sum1 = 0\n",
    "        for i in l1:\n",
    "            product *= i\n",
    "            sum1 += i\n",
    "        return product-sum1"
   ]
  },
  {
   "cell_type": "code",
   "execution_count": null,
   "id": "72b68856",
   "metadata": {},
   "outputs": [],
   "source": [
    "#task 7\n",
    "class Solution:\n",
    "    def xorOperation(self, n: int, start: int) -> int:\n",
    "        s1=[]\n",
    "        r = 0\n",
    "        for i in range(n):\n",
    "            s=start+(i*2)\n",
    "            s1.append(s)\n",
    "        for i in range(len(s1)):\n",
    "            r = r ^ s1[i]\n",
    "        return r"
   ]
  }
 ],
 "metadata": {
  "kernelspec": {
   "display_name": "Python 3 (ipykernel)",
   "language": "python",
   "name": "python3"
  },
  "language_info": {
   "codemirror_mode": {
    "name": "ipython",
    "version": 3
   },
   "file_extension": ".py",
   "mimetype": "text/x-python",
   "name": "python",
   "nbconvert_exporter": "python",
   "pygments_lexer": "ipython3",
   "version": "3.9.12"
  }
 },
 "nbformat": 4,
 "nbformat_minor": 5
}
