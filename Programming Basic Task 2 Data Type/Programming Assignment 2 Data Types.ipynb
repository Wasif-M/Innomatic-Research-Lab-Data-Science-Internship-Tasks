{
 "cells": [
  {
   "cell_type": "code",
   "execution_count": 1,
   "id": "dda7a526",
   "metadata": {},
   "outputs": [
    {
     "name": "stdout",
     "output_type": "stream",
     "text": [
      "12\n",
      "21\n",
      "23\n",
      "4\n"
     ]
    }
   ],
   "source": [
    "# Task 1\n",
    "if __name__ == '__main__':\n",
    "    x = int(input())\n",
    "    y = int(input())\n",
    "    z = int(input())\n",
    "    n = int(input())"
   ]
  },
  {
   "cell_type": "code",
   "execution_count": 2,
   "id": "40d1c909",
   "metadata": {},
   "outputs": [
    {
     "name": "stdout",
     "output_type": "stream",
     "text": [
      "12\n",
      "12\n"
     ]
    }
   ],
   "source": [
    "# Task 2\n",
    "if __name__ == '__main__':\n",
    "    n = int(input())\n",
    "    arr = map(int, input().split())"
   ]
  },
  {
   "cell_type": "code",
   "execution_count": null,
   "id": "42b4f1b0",
   "metadata": {},
   "outputs": [],
   "source": [
    "# Task 3\n",
    "if __name__ == '__main__':\n",
    "    n,s,r = [],[],[]\n",
    "    for _ in range(int(input())):\n",
    "        name = input()\n",
    "        score = float(input())\n",
    "        r.append([name,score])\n",
    "        s.append(score)\n",
    "        \n",
    "    s = sorted(set(s))\n",
    "    SecLowScore = s[1]\n",
    "    \n",
    "    for i in range(len(r)):\n",
    "        if r[i][1] == SecLowScore:\n",
    "            n.append(r[i][0])\n",
    "    n.sort()   \n",
    "    for i in n:\n",
    "        print(i)"
   ]
  },
  {
   "cell_type": "code",
   "execution_count": null,
   "id": "aefbc6fd",
   "metadata": {},
   "outputs": [],
   "source": [
    "# Task 4\n",
    "if __name__ == '__main__':\n",
    "    n = int(input())\n",
    "    student_marks = {}\n",
    "    for _ in range(n):\n",
    "        name, *line = input().split()\n",
    "        scores = list(map(float, line))\n",
    "        student_marks[name] = scores\n",
    "    query_name = input()\n",
    "    print('%0.2f' % (sum(student_marks[query_name])/len(student_marks[query_name])))\n"
   ]
  },
  {
   "cell_type": "code",
   "execution_count": null,
   "id": "421b9280",
   "metadata": {},
   "outputs": [],
   "source": [
    "# Task 5\n",
    "if __name__ == '__main__':\n",
    "    N = int(input())\n",
    "    l = []\n",
    "    for i in range(N):\n",
    "        s = list(input().split())\n",
    "        if s[0]=='insert':\n",
    "            l.insert(int(s[1]),int(s[2]))\n",
    "        if s[0]=='remove':\n",
    "            l.remove(int(s[1]))\n",
    "        if s[0]=='append':\n",
    "            l.append(int(s[1]))\n",
    "        if s[0]=='sort':\n",
    "            l.sort()\n",
    "        if s[0]=='pop':\n",
    "            l.pop()\n",
    "        if s[0]=='reverse':\n",
    "            l.reverse()     \n",
    "        if s[0]=='print':\n",
    "            print(l)"
   ]
  },
  {
   "cell_type": "code",
   "execution_count": null,
   "id": "8d575915",
   "metadata": {},
   "outputs": [],
   "source": [
    "#Task 6\n",
    "if __name__ == '__main__':\n",
    "    n = int(input())\n",
    "    integer_list = map(int, input().split())\n",
    "    t = tuple(integer_list)\n",
    "    print(hash(t));"
   ]
  },
  {
   "cell_type": "code",
   "execution_count": null,
   "id": "f2ce100e",
   "metadata": {},
   "outputs": [],
   "source": [
    "#Task 7\n",
    "def average(array):\n",
    "    sum_array = sum(set(array))\n",
    "    len_array = len(set(array))\n",
    "    output = sum_array/len_array\n",
    "    return output\n",
    "\n",
    "if __name__ == '__main__':\n",
    "    n = int(input())\n",
    "    arr = list(map(int, input().split()))\n",
    "    result = average(arr)\n",
    "    print(result)"
   ]
  },
  {
   "cell_type": "code",
   "execution_count": null,
   "id": "bd5a01bb",
   "metadata": {},
   "outputs": [],
   "source": [
    "#Task 8\n",
    "n, m = input().split()\n",
    "\n",
    "arr = input().split()\n",
    "\n",
    "A = set(input().split())\n",
    "\n",
    "B = set(input().split())\n",
    "\n",
    "print(sum([(i in A) - (i in B) for i in arr]))"
   ]
  },
  {
   "cell_type": "code",
   "execution_count": null,
   "id": "08ef7821",
   "metadata": {},
   "outputs": [],
   "source": [
    "#task 9\n",
    "M = int(input())\n",
    "mset = set(map(int, input().split()))\n",
    "N = int(input())\n",
    "nset = set(map(int, input().split()))\n",
    "\n",
    "mdef = mset.difference(nset)\n",
    "ndef = nset.difference(mset)\n",
    "\n",
    "output = mdef.union(ndef)\n",
    "\n",
    "for i in sorted(list(output)):\n",
    "    print(i)\n"
   ]
  },
  {
   "cell_type": "code",
   "execution_count": null,
   "id": "183ce924",
   "metadata": {},
   "outputs": [],
   "source": [
    "#task 10\n",
    "input()\n",
    "s  = list(map(int, input().split()))\n",
    "s.reverse()\n",
    "s = set(s)\n",
    "num_commands = int(input())\n",
    "command = [\"\", \"\"]\n",
    "for i in range(num_commands):\n",
    "    command = input().split()\n",
    "    if len(command) == 1:\n",
    "        getattr(s, command[0])()\n",
    "    elif len(command) == 2:\n",
    "        command[1] = int(command[1])\n",
    "        if command[1] in s:\n",
    "            getattr(s, command[0])(command[1])\n",
    "print(sum(s))\n"
   ]
  },
  {
   "cell_type": "code",
   "execution_count": null,
   "id": "757692fe",
   "metadata": {},
   "outputs": [],
   "source": [
    "#task 11\n",
    "n, set_A = int(input()), set(input().split())\n",
    "\n",
    "for _ in range(int(input())):\n",
    "    opt, set_B = input().split(), input().split()\n",
    "    if opt[0] == 'intersection_update':\n",
    "        set_A.intersection_update(set_B)\n",
    "    elif opt[0] == 'difference_update':\n",
    "        set_A.difference_update(set_B)\n",
    "    elif opt[0] == 'symmetric_difference_update':\n",
    "        set_A.symmetric_difference_update(set_B)\n",
    "    elif opt[0] == 'update':\n",
    "        set_A.update(set_B)\n",
    "\n",
    "print(sum(map(int, set_A)))\n"
   ]
  },
  {
   "cell_type": "code",
   "execution_count": null,
   "id": "8f0695b0",
   "metadata": {},
   "outputs": [],
   "source": [
    "#task 12\n",
    "from collections import Counter\n",
    "\n",
    "input()\n",
    "print(Counter(input().split()).most_common()[-1][0])\n"
   ]
  },
  {
   "cell_type": "code",
   "execution_count": null,
   "id": "282b10b6",
   "metadata": {},
   "outputs": [],
   "source": [
    "#task 13\n",
    "# Enter your code here. Read input from STDIN. Print output to STDOUT\n",
    "for i in range(int(input())):\n",
    "    a = int(input())\n",
    "    set_a = set(map(int, input().split()))\n",
    "\n",
    "    b = int(input())\n",
    "    set_b = set(map(int, input().split()))\n",
    "\n",
    "    if len(set_a - set_b) == 0:\n",
    "        print(\"True\")\n",
    "    else:\n",
    "        print(\"False\")\n"
   ]
  },
  {
   "cell_type": "code",
   "execution_count": null,
   "id": "aacaed0a",
   "metadata": {},
   "outputs": [],
   "source": [
    "#task 14\n",
    "A = set(input().split())\n",
    "count = 0\n",
    "\n",
    "value= 0\n",
    "for i in range(int(input())):\n",
    "    if A.issuperset(set(input().split())):\n",
    "        count += 1\n",
    "    else:\n",
    "        value += 1\n",
    "if value != 0:\n",
    "    print('False')\n",
    "else:\n",
    "    print('True')\n"
   ]
  },
  {
   "cell_type": "code",
   "execution_count": null,
   "id": "49f68825",
   "metadata": {},
   "outputs": [],
   "source": [
    "#Task 15\n",
    "input()\n",
    "a = set(map(int, input().split()))\n",
    "input()\n",
    "b = set(map(int, input().split()))\n",
    "print(len(a.symmetric_difference(b)))"
   ]
  },
  {
   "cell_type": "code",
   "execution_count": null,
   "id": "ad144124",
   "metadata": {},
   "outputs": [],
   "source": [
    "#task 16 \n",
    "n1 = int(input())\n",
    "storage1 = set(input().split())\n",
    "\n",
    "n2 = int(input())\n",
    "storage2 = set(input().split())\n",
    "\n",
    "storage3 = storage2.intersection(storage1)\n",
    "\n",
    "print(len(storage3))"
   ]
  },
  {
   "cell_type": "code",
   "execution_count": null,
   "id": "06d28e16",
   "metadata": {},
   "outputs": [],
   "source": [
    "#task 17\n",
    "n = int(input())\n",
    "Country = set()\n",
    "for i in range(n):\n",
    "    Country.add(input())\n",
    "print(len(Country))"
   ]
  },
  {
   "cell_type": "code",
   "execution_count": null,
   "id": "7dc75f9a",
   "metadata": {},
   "outputs": [],
   "source": [
    "#Task 18\n",
    "num1 = int(input())\n",
    "setA = set(map(int, input().split()))\n",
    "num2 = int(input())\n",
    "setB = set(map(int, input().split()))\n",
    "\n",
    "print(len(setA.union(setB)))"
   ]
  }
 ],
 "metadata": {
  "kernelspec": {
   "display_name": "Python 3 (ipykernel)",
   "language": "python",
   "name": "python3"
  },
  "language_info": {
   "codemirror_mode": {
    "name": "ipython",
    "version": 3
   },
   "file_extension": ".py",
   "mimetype": "text/x-python",
   "name": "python",
   "nbconvert_exporter": "python",
   "pygments_lexer": "ipython3",
   "version": "3.9.12"
  }
 },
 "nbformat": 4,
 "nbformat_minor": 5
}
